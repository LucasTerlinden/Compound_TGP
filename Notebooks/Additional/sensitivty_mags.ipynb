{
 "cells": [
  {
   "cell_type": "code",
   "execution_count": null,
   "metadata": {},
   "outputs": [],
   "source": [
    "%cd ..\n",
    "%cd .."
   ]
  },
  {
   "cell_type": "markdown",
   "metadata": {},
   "source": [
    "## Kernel: run_compound\n",
    "Preliminary sensitivity analysis"
   ]
  },
  {
   "cell_type": "code",
   "execution_count": 2,
   "metadata": {},
   "outputs": [],
   "source": [
    "import pandas as pd\n",
    "from Notebooks.Scripts.sampling_utils import run_MDA\n",
    "import numpy as np"
   ]
  },
  {
   "cell_type": "code",
   "execution_count": null,
   "metadata": {},
   "outputs": [],
   "source": [
    "all_data = pd.read_csv('Data/all_drivers.csv', parse_dates = ['DateTime(UTC)'])\n",
    "all_data.set_index('DateTime(UTC)', inplace=True)\n",
    "all_data.head()"
   ]
  },
  {
   "cell_type": "code",
   "execution_count": 4,
   "metadata": {},
   "outputs": [],
   "source": [
    "tidal_peaks = pd.read_csv('Data/skew_surge_tides.csv', parse_dates = ['DateTime(UTC)']).set_index('DateTime(UTC)')\n",
    "max_surge = tidal_peaks[tidal_peaks['Type'] == 'HH']['Skew_surge (m)'].max()\n",
    "mean_surge = tidal_peaks[tidal_peaks['Type'] == 'HH']['Skew_surge (m)'].mean()"
   ]
  },
  {
   "cell_type": "code",
   "execution_count": 5,
   "metadata": {},
   "outputs": [],
   "source": [
    "mean = all_data.mean()\n",
    "max = all_data.max()"
   ]
  },
  {
   "cell_type": "code",
   "execution_count": null,
   "metadata": {},
   "outputs": [],
   "source": [
    "mean"
   ]
  },
  {
   "cell_type": "code",
   "execution_count": null,
   "metadata": {},
   "outputs": [],
   "source": [
    "max"
   ]
  },
  {
   "cell_type": "code",
   "execution_count": 8,
   "metadata": {},
   "outputs": [],
   "source": [
    "surge = [0, max_surge]\n",
    "discharge = [200, 800] # 167 and 810\n",
    "precip = [0, 23]"
   ]
  },
  {
   "cell_type": "code",
   "execution_count": null,
   "metadata": {},
   "outputs": [],
   "source": [
    "surge1, precip2, q3 = np.meshgrid(surge, precip, discharge)\n",
    "\n",
    "# Reshape the grids to a single array\n",
    "combo_array = np.vstack([surge1.ravel(), precip2.ravel(), q3.ravel()]).T\n",
    "sensitivity = pd.DataFrame(combo_array, columns = ['S Mag [m]', 'P Mag [mm/hr]', 'Q Mag [m^3/hr]'])\n",
    "sensitivity"
   ]
  },
  {
   "cell_type": "code",
   "execution_count": null,
   "metadata": {},
   "outputs": [],
   "source": [
    "constants = pd.DataFrame(np.array([[1, 12, 0]]), columns = ['S Dur [tidal cycles]', 'P Dur [hr]', 'P Lag [hr]'])\n",
    "constants"
   ]
  },
  {
   "cell_type": "code",
   "execution_count": null,
   "metadata": {},
   "outputs": [],
   "source": [
    "run_MDA('Sensitvity_mags', sensitivity, num_sims = 8, output = ['Total'], bonus = constants, plot = True, artificial_tide = True)"
   ]
  },
  {
   "cell_type": "code",
   "execution_count": null,
   "metadata": {},
   "outputs": [],
   "source": [
    "damages = pd.read_csv('Models/Sensitvity_mags/damages.csv', index_col=0)\n",
    "damages.columns = ['']\n",
    "damages.index = np.arange(1, len(damages)+ 1)\n",
    "damages"
   ]
  },
  {
   "cell_type": "code",
   "execution_count": 16,
   "metadata": {},
   "outputs": [],
   "source": [
    "import matplotlib.pyplot as plt"
   ]
  },
  {
   "cell_type": "code",
   "execution_count": null,
   "metadata": {},
   "outputs": [],
   "source": [
    "sensitivity"
   ]
  },
  {
   "cell_type": "code",
   "execution_count": null,
   "metadata": {},
   "outputs": [],
   "source": [
    "ax = damages.plot.bar()\n",
    "plt.ylabel('Total Damages [USD]')\n",
    "plt.xlabel('Simulation')\n",
    "ax.legend()\n",
    "# plt.grid()"
   ]
  },
  {
   "cell_type": "code",
   "execution_count": null,
   "metadata": {},
   "outputs": [],
   "source": []
  }
 ],
 "metadata": {
  "kernelspec": {
   "display_name": "Python 3",
   "language": "python",
   "name": "python3"
  },
  "language_info": {
   "codemirror_mode": {
    "name": "ipython",
    "version": 3
   },
   "file_extension": ".py",
   "mimetype": "text/x-python",
   "name": "python",
   "nbconvert_exporter": "python",
   "pygments_lexer": "ipython3",
   "version": "3.10.12"
  }
 },
 "nbformat": 4,
 "nbformat_minor": 2
}
