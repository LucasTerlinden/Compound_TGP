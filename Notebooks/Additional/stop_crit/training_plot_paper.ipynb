{
 "cells": [
  {
   "cell_type": "code",
   "execution_count": null,
   "metadata": {},
   "outputs": [],
   "source": [
    "%cd ..\n",
    "%cd ..\n",
    "%cd .."
   ]
  },
  {
   "cell_type": "code",
   "execution_count": 2,
   "metadata": {},
   "outputs": [],
   "source": [
    "import pandas as pd\n",
    "import matplotlib.pyplot as plt\n",
    "import numpy as np\n",
    "\n",
    "import Notebooks.Scripts.train as train\n",
    "from Notebooks.Scripts.samp_algo import mda_tgp_samp"
   ]
  },
  {
   "cell_type": "code",
   "execution_count": null,
   "metadata": {},
   "outputs": [],
   "source": [
    "df_2 = pd.read_csv('fitted_stats/training_2d.csv')\n",
    "df_6 = pd.read_csv('fitted_stats/training_6d.csv', index_col = 0)"
   ]
  },
  {
   "cell_type": "code",
   "execution_count": 4,
   "metadata": {},
   "outputs": [],
   "source": [
    "target_2 = pd.read_csv('Models/' + '2d_all/' + 'damages.csv', index_col = 0)\n",
    "target_6 = pd.read_csv('Models/' + '6d_all/' + 'damages.csv', index_col = 0)"
   ]
  },
  {
   "cell_type": "markdown",
   "metadata": {},
   "source": [
    "Once you run the two following cells, you can comment them"
   ]
  },
  {
   "cell_type": "code",
   "execution_count": null,
   "metadata": {},
   "outputs": [],
   "source": [
    "mda_tgp_samp(df_2, '2d_all', 'Notebooks/Additional/stop_crit/2d/')"
   ]
  },
  {
   "cell_type": "code",
   "execution_count": null,
   "metadata": {},
   "outputs": [],
   "source": [
    "mda_tgp_samp(df_6, '6d_all', 'Notebooks/Additional/stop_crit/6d/')"
   ]
  },
  {
   "cell_type": "code",
   "execution_count": null,
   "metadata": {},
   "outputs": [],
   "source": [
    "rmse_arr, alm, ead, ead_ground, risk_ground, risk_list, ks_list, ind = train.collect_metrics(df_2, 'Notebooks/Additional/stop_crit/2d/', 4, target_2, 0.1)\n",
    "\n",
    "df = pd.DataFrame({'RMSE': np.diff(rmse_arr[1]), 'ALM': alm[0, 1:]}, index = np.arange(5, 100, 1))\n",
    "rolling_mean = df.rolling(window=2).mean()\n",
    "rolling_mean.head(20)"
   ]
  },
  {
   "cell_type": "code",
   "execution_count": null,
   "metadata": {},
   "outputs": [],
   "source": [
    "fig, ax1 = plt.subplots()\n",
    "\n",
    "ax1.set_xlabel('Total simulations [-]')\n",
    "ax1.set_ylabel('RMSE of non-simulated events [USD]', color='tab:blue')\n",
    "ax1.plot(df.index, df['RMSE'], color='tab:blue')\n",
    "ax1.tick_params(axis='y', labelcolor='tab:blue')\n",
    "\n",
    "ax2 = ax1.twinx()\n",
    "ax2.set_ylabel('Mean ALM [-]', color='tab:red')\n",
    "ax2.plot(df.index, df['ALM'], color='tab:red')\n",
    "ax2.tick_params(axis='y', labelcolor='tab:red')\n",
    "\n",
    "plt.title('(3) stop crit')\n",
    "plt.show()"
   ]
  },
  {
   "cell_type": "code",
   "execution_count": null,
   "metadata": {},
   "outputs": [],
   "source": [
    "error = train.stop_plots([df_2, df_6], ['Notebooks/Additional/stop_crit/2d/', 'Notebooks/Additional/stop_crit/6d/'], [4, 64], [target_2, target_6])"
   ]
  },
  {
   "cell_type": "code",
   "execution_count": null,
   "metadata": {},
   "outputs": [],
   "source": []
  }
 ],
 "metadata": {
  "kernelspec": {
   "display_name": "Python 3",
   "language": "python",
   "name": "python3"
  },
  "language_info": {
   "codemirror_mode": {
    "name": "ipython",
    "version": 3
   },
   "file_extension": ".py",
   "mimetype": "text/x-python",
   "name": "python",
   "nbconvert_exporter": "python",
   "pygments_lexer": "ipython3",
   "version": "3.10.12"
  }
 },
 "nbformat": 4,
 "nbformat_minor": 2
}
