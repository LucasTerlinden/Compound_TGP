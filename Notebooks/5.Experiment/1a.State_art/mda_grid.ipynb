{
 "cells": [
  {
   "cell_type": "code",
   "execution_count": null,
   "metadata": {},
   "outputs": [],
   "source": [
    "# uncomment if running in vs code\n",
    "# %cd ..\n",
    "# %cd ..\n",
    "# %cd .."
   ]
  },
  {
   "cell_type": "markdown",
   "metadata": {},
   "source": [
    "## Kernel: run_compound\n",
    "Run the 64 simulations for the current approach and compare the risk curves with TGP on test dataset"
   ]
  },
  {
   "cell_type": "code",
   "execution_count": 3,
   "metadata": {},
   "outputs": [],
   "source": [
    "import pandas as pd\n",
    "import itertools\n",
    "import matplotlib.pyplot as plt\n",
    "import numpy as np\n",
    "from scipy.interpolate import griddata\n",
    "\n",
    "import Notebooks.Scripts.normalization as normalizer\n",
    "import Notebooks.Scripts.sampling_utils as sam_util\n",
    "from Notebooks.Scripts import selector_mda"
   ]
  },
  {
   "cell_type": "code",
   "execution_count": null,
   "metadata": {},
   "outputs": [],
   "source": [
    "df_two = pd.read_csv('fitted_stats/2d_sims.csv')\n",
    "df_two.head()"
   ]
  },
  {
   "cell_type": "code",
   "execution_count": null,
   "metadata": {},
   "outputs": [],
   "source": [
    "stoc_set = df_two\n",
    "minmax_scaler = normalizer.scaler(stoc_set)\n",
    "df_minmax_scaled = normalizer.normalize_dataset(stoc_set, minmax_scaler)\n",
    "\n",
    "corner_combinations = list(itertools.product([0, 1], repeat=df_two.shape[1]))\n",
    "df_grid = pd.DataFrame(corner_combinations, columns=df_minmax_scaled.columns)\n",
    "\n",
    "seed = df_minmax_scaled['S Mag'].argmax()\n",
    "\n",
    "mda_runs = 8**stoc_set.shape[1] - 2**stoc_set.shape[1]\n",
    "\n",
    "maxmin_class = selector_mda.MaxMin()\n",
    "lst_ind = maxmin_class.select_from_cluster(df_minmax_scaled.values, mda_runs, seed)\n",
    "subset = df_minmax_scaled.iloc[lst_ind].copy(deep = True)\n",
    "\n",
    "scaled_sims = pd.concat((df_grid, subset)).reset_index(drop = True)\n",
    "\n",
    "denorm_sims = normalizer.denormalize_dataset(scaled_sims, minmax_scaler).values\n",
    "denorm_sims = pd.DataFrame(denorm_sims, columns = stoc_set.columns)\n",
    "ax = df_two.plot(kind = 'scatter', x = 'S Mag [m]', y = 'P Mag [mm/hr]', label = 'Available')\n",
    "denorm_sims.plot(kind = 'scatter', x = 'S Mag [m]', y = 'P Mag [mm/hr]', ax = ax, c= 'k', label = 'MDA')\n",
    "denorm_sims.iloc[:2**df_two.shape[1]].plot(kind = 'scatter', x = 'S Mag [m]', y = 'P Mag [mm/hr]', ax = ax, c= 'r', label = 'Corners')"
   ]
  },
  {
   "cell_type": "code",
   "execution_count": null,
   "metadata": {},
   "outputs": [],
   "source": [
    "target, times, paths = sam_util.run_MDA('MDA_2d', denorm_sims, len(stoc_set),\n",
    "                                        output = ['Total'], bonus = None, plot = False, artificial_tide=False)"
   ]
  },
  {
   "cell_type": "code",
   "execution_count": 8,
   "metadata": {},
   "outputs": [],
   "source": [
    "target = pd.read_csv('Models/MDA_2d/damages.csv', index_col = 0)"
   ]
  },
  {
   "cell_type": "code",
   "execution_count": null,
   "metadata": {},
   "outputs": [],
   "source": [
    "sampled_events = denorm_sims.copy(deep = True)\n",
    "sampled_events['Total'] = target[:len(denorm_sims)]\n",
    "sampled_events"
   ]
  },
  {
   "cell_type": "code",
   "execution_count": 10,
   "metadata": {},
   "outputs": [],
   "source": [
    "grid_x, grid_y = np.meshgrid(np.linspace(df_two['S Mag [m]'].min(), df_two['S Mag [m]'].max(), 1000),\n",
    "                             np.linspace(df_two['P Mag [mm/hr]'].min(), df_two['P Mag [mm/hr]'].max(), 1000), indexing='ij')"
   ]
  },
  {
   "cell_type": "code",
   "execution_count": null,
   "metadata": {},
   "outputs": [],
   "source": [
    "grid_target = griddata(sampled_events.iloc[:, :2], sampled_events.iloc[:, 2], (grid_x, grid_y), method='linear')\n",
    "interp_target = griddata(sampled_events.iloc[:, :2], sampled_events.iloc[:, 2], df_two.values, method='linear')\n",
    "\n",
    "contour_levels = np.linspace(target.min().item(), target.max().item(), 11)\n",
    "plt.figure(figsize = (10, 7))\n",
    "plt.contourf(grid_x,\n",
    "             grid_y,\n",
    "             grid_target,\n",
    "             cmap='viridis',\n",
    "             levels = contour_levels)\n",
    "plt.colorbar(label = 'Total Economic Damages [USD]').ax.yaxis.label.set_size(12)\n",
    "plt.scatter(x = df_two['S Mag [m]'], y = df_two['P Mag [mm/hr]'], c = 'k', label = 'Available', s = 2)\n",
    "plt.scatter(x = denorm_sims['S Mag [m]'], y = denorm_sims['P Mag [mm/hr]'], c= 'r', label = 'MDA', s = 2)\n",
    "plt.scatter(x = denorm_sims.iloc[:2**df_two.shape[1]]['S Mag [m]'], y = denorm_sims.iloc[:2**df_two.shape[1]]['P Mag [mm/hr]'], c= 'g', label = 'Corners', s=20)\n",
    "plt.xlabel('S Mag [m]', fontsize = 12)\n",
    "plt.ylabel('P Mag [mm/hr]', fontsize = 12)\n",
    "plt.legend(fontsize = 12)"
   ]
  },
  {
   "cell_type": "code",
   "execution_count": null,
   "metadata": {},
   "outputs": [],
   "source": [
    "interp = df_two.copy(deep = True)\n",
    "interp['Total [USD]'] = interp_target\n",
    "interp"
   ]
  }
 ],
 "metadata": {
  "kernelspec": {
   "display_name": "Python 3",
   "language": "python",
   "name": "python3"
  },
  "language_info": {
   "codemirror_mode": {
    "name": "ipython",
    "version": 3
   },
   "file_extension": ".py",
   "mimetype": "text/x-python",
   "name": "python",
   "nbconvert_exporter": "python",
   "pygments_lexer": "ipython3",
   "version": "3.10.12"
  }
 },
 "nbformat": 4,
 "nbformat_minor": 2
}
