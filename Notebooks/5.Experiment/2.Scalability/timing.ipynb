{
 "cells": [
  {
   "cell_type": "code",
   "execution_count": null,
   "metadata": {},
   "outputs": [],
   "source": [
    "# uncomment if running in vs code\n",
    "# %cd ..\n",
    "# %cd ..\n",
    "# %cd .."
   ]
  },
  {
   "cell_type": "markdown",
   "metadata": {},
   "source": [
    "## Kernel: run_compound"
   ]
  },
  {
   "cell_type": "markdown",
   "metadata": {},
   "source": [
    "Compare times of a priori and a posteriori approach"
   ]
  },
  {
   "cell_type": "code",
   "execution_count": 2,
   "metadata": {},
   "outputs": [],
   "source": [
    "import pandas as pd\n",
    "import numpy as np\n",
    "import matplotlib.pyplot as plt\n",
    "\n",
    "import Notebooks.Scripts.post_process as post"
   ]
  },
  {
   "cell_type": "code",
   "execution_count": 3,
   "metadata": {},
   "outputs": [],
   "source": [
    "class_list = pd.read_csv('fitted_stats/classified.csv', index_col=0).columns.to_list()\n",
    "sub_count_list = pd.read_csv('fitted_stats/sub_county.csv', index_col=0).columns.to_list()"
   ]
  },
  {
   "cell_type": "markdown",
   "metadata": {},
   "source": [
    "MDA + scatter times"
   ]
  },
  {
   "cell_type": "code",
   "execution_count": 4,
   "metadata": {},
   "outputs": [],
   "source": [
    "times = pd.read_csv('Models/MDA_2d/times.csv', index_col = 0)\n",
    "clock = len(times[times[times.columns[0]] != 0])\n",
    "times = times.iloc[:clock]"
   ]
  },
  {
   "cell_type": "code",
   "execution_count": null,
   "metadata": {},
   "outputs": [],
   "source": [
    "times.sum().sum()/60"
   ]
  },
  {
   "cell_type": "code",
   "execution_count": 6,
   "metadata": {},
   "outputs": [],
   "source": [
    "tgp_folder = 'Notebooks/4.Active_learning/'"
   ]
  },
  {
   "cell_type": "markdown",
   "metadata": {},
   "source": [
    "## TGP on single output"
   ]
  },
  {
   "cell_type": "code",
   "execution_count": null,
   "metadata": {},
   "outputs": [],
   "source": [
    "diff_comp_single, samples_req_single = post.collect_tgp_times(tgp_folder)\n",
    "samples_req_single"
   ]
  },
  {
   "cell_type": "code",
   "execution_count": null,
   "metadata": {},
   "outputs": [],
   "source": [
    "diff_comp_single"
   ]
  },
  {
   "cell_type": "code",
   "execution_count": null,
   "metadata": {},
   "outputs": [],
   "source": [
    "diff_comp_single.sum()"
   ]
  },
  {
   "cell_type": "code",
   "execution_count": null,
   "metadata": {},
   "outputs": [],
   "source": [
    "single_comp = diff_comp_single[['A Posteriori (2 dims)']].copy(deep = True)\n",
    "single_comp.rename(columns = {'A Posteriori (2 dims)': 'Active learning'}, inplace = True)\n",
    "single_comp.loc[:, 'Equidistant sampling'] = times.sum()/60\n",
    "col_ind = [1, 0]\n",
    "post.plot_times(single_comp.iloc[:, col_ind])\n",
    "# plt.savefig('Figures/PDF/f03.pdf', dpi=300, format='pdf', bbox_inches=\"tight\")\n",
    "# plt.savefig('Figures/PNG/f03.png', format='png', bbox_inches=\"tight\")"
   ]
  },
  {
   "cell_type": "markdown",
   "metadata": {},
   "source": [
    "## TGP on classified outputs"
   ]
  },
  {
   "cell_type": "code",
   "execution_count": 16,
   "metadata": {},
   "outputs": [],
   "source": [
    "class_list = pd.read_csv('fitted_stats/classified.csv', index_col=0).columns.to_list()"
   ]
  },
  {
   "cell_type": "code",
   "execution_count": null,
   "metadata": {},
   "outputs": [],
   "source": [
    "diff_comp_multi, samp_multi = post.collect_tgp_times(tgp_folder, classif = class_list)\n",
    "samp_multi"
   ]
  },
  {
   "cell_type": "code",
   "execution_count": null,
   "metadata": {},
   "outputs": [],
   "source": [
    "diff_comp_multi"
   ]
  },
  {
   "cell_type": "code",
   "execution_count": null,
   "metadata": {},
   "outputs": [],
   "source": [
    "diff_comp_multi.sum()"
   ]
  },
  {
   "cell_type": "markdown",
   "metadata": {},
   "source": [
    "## TGP on sub-county model"
   ]
  },
  {
   "cell_type": "code",
   "execution_count": null,
   "metadata": {},
   "outputs": [],
   "source": [
    "sub_count_list = pd.read_csv('fitted_stats/sub_county.csv', index_col=0).columns.to_list()\n",
    "diff_comp_sub, samp_sub = post.collect_tgp_times(tgp_folder, classif = sub_count_list, dimensions=[2])\n",
    "samp_sub"
   ]
  },
  {
   "cell_type": "code",
   "execution_count": null,
   "metadata": {},
   "outputs": [],
   "source": [
    "diff_comp_sub"
   ]
  },
  {
   "cell_type": "code",
   "execution_count": null,
   "metadata": {},
   "outputs": [],
   "source": [
    "diff_comp_sub.sum()"
   ]
  },
  {
   "cell_type": "code",
   "execution_count": null,
   "metadata": {},
   "outputs": [],
   "source": [
    "diff_comp_multi"
   ]
  },
  {
   "cell_type": "code",
   "execution_count": 56,
   "metadata": {},
   "outputs": [],
   "source": [
    "def plot_times_all(df_prior, df_single, df_comp, df_sub):\n",
    "    fig, ax = plt.subplots(1, 4, figsize = (8, 6), gridspec_kw={'width_ratios': [0.8, 5, 5, 0.8]}, sharey=True)\n",
    "    list = [df_prior, df_single, df_comp, df_sub]\n",
    "    names = ['Equidistant\\nsampling', 'Active learning\\ncomplete', 'Active learning\\nclassified', 'Active learning\\nsub-county']\n",
    "    for i in range(4):\n",
    "        df = list[i]\n",
    "        print(df)\n",
    "        num_bars = df.shape[1]\n",
    "        x_values = np.arange(1, num_bars + 1, 1)\n",
    "        print(num_bars)\n",
    "        print(i)\n",
    "        ax[i].bar(x_values, df.loc['FIAT'].values, label='Delft-FIAT')\n",
    "        ax[i].bar(x_values, df.loc['SFINCS'].values, bottom=df.loc['FIAT'].values, label='SFINCS')\n",
    "        ax[i].set_xticks(x_values, df.columns, fontsize = 12)\n",
    "        ax[i].grid()\n",
    "        ax[i].axhline(df_prior.sum().item(), c = 'r', lw = 2, label = 'Equidistant sampling\\ncomputational time', zorder=0)\n",
    "\n",
    "        if i > 0:\n",
    "            for j in range(num_bars):\n",
    "                if j == 0:\n",
    "                    label = 'TGP-LLM'\n",
    "                else:\n",
    "                    label = ''\n",
    "                ax[i].bar(x_values[j], df.loc['TGP'].iloc[j], bottom=[df.loc['FIAT'].iloc[j]+df.loc['SFINCS'].iloc[j]], label=label, color= 'k')\n",
    "\n",
    "\n",
    "\n",
    "        ax[i].set_xlabel(names[i], fontsize = 12, fontweight = 'bold')\n",
    "    ax[0].set_ylabel('Time [min]', fontsize = 12)\n",
    "    # plt.title('Comparing Computational Cost of Sampling Algroithms for Complete', fontsize = 12)\n",
    "\n",
    "    ax[1].legend(fontsize = 12)\n",
    "    fig.text(0.55, -0.04, 'Number of dimensions for different approaches and number of geographic locations [-]   ', ha='center', fontsize=14)\n",
    "    return None"
   ]
  },
  {
   "cell_type": "code",
   "execution_count": 57,
   "metadata": {},
   "outputs": [],
   "source": [
    "Prior = pd.DataFrame(times.sum()/60, columns = ['2'])"
   ]
  },
  {
   "cell_type": "code",
   "execution_count": null,
   "metadata": {},
   "outputs": [],
   "source": [
    "new = diff_comp_multi.copy(deep = True)\n",
    "diff_comp_single = diff_comp_single.rename(columns={'A Posteriori (2 dims)': '2',\n",
    "                                                    'A Posteriori (3 dims)': '3',\n",
    "                                                    'A Posteriori (4 dims)': '4',\n",
    "                                                    'A Posteriori (5 dims)': '5',\n",
    "                                                    'A Posteriori (6 dims)': '6'})\n",
    "new = new.rename(columns={'A Posteriori (2 dims)': '2',\n",
    "                          'A Posteriori (3 dims)': '3',\n",
    "                          'A Posteriori (4 dims)': '4',\n",
    "                          'A Posteriori (5 dims)': '5',\n",
    "                          'A Posteriori (6 dims)': '6'})\n",
    "diff_comp_sub = diff_comp_sub.rename(columns={'A Posteriori (2 dims)': '2'})\n",
    "plot_times_all(Prior, diff_comp_single, new, diff_comp_sub)\n",
    "plt.tight_layout(pad = 0.0000000001, rect = (0, 0, 1, 1))\n",
    "plt.savefig('Figures/PDF/f04.pdf', dpi=300, format='pdf', bbox_inches=\"tight\")\n",
    "plt.savefig('Figures/PNG/f04.png', format='png', bbox_inches=\"tight\")"
   ]
  },
  {
   "cell_type": "code",
   "execution_count": null,
   "metadata": {},
   "outputs": [],
   "source": []
  }
 ],
 "metadata": {
  "kernelspec": {
   "display_name": "Python 3",
   "language": "python",
   "name": "python3"
  },
  "language_info": {
   "codemirror_mode": {
    "name": "ipython",
    "version": 3
   },
   "file_extension": ".py",
   "mimetype": "text/x-python",
   "name": "python",
   "nbconvert_exporter": "python",
   "pygments_lexer": "ipython3",
   "version": "3.10.12"
  }
 },
 "nbformat": 4,
 "nbformat_minor": 2
}
