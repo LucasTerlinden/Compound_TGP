{
 "cells": [
  {
   "cell_type": "code",
   "execution_count": null,
   "metadata": {},
   "outputs": [],
   "source": [
    "# uncomment if running in vs code\n",
    "# %cd ..\n",
    "# %cd .."
   ]
  },
  {
   "cell_type": "markdown",
   "metadata": {},
   "source": [
    "## Kernel: stat_compound\n",
    "Create historical event set, fit vine copulas, define non magnitude marginals, generate stochastic event sets, compare kde in six dimensions with split in lag."
   ]
  },
  {
   "cell_type": "code",
   "execution_count": 2,
   "metadata": {},
   "outputs": [],
   "source": [
    "import xarray as xr\n",
    "import hydromt\n",
    "import pandas as pd\n",
    "import numpy as np\n",
    "import scipy.stats as sc\n",
    "import matplotlib.pyplot as plt\n",
    "from fitter import Fitter\n",
    "import seaborn as sns\n",
    "%matplotlib inline\n",
    "\n",
    "import Notebooks.Scripts.statistics_helper as stats_help"
   ]
  },
  {
   "cell_type": "code",
   "execution_count": null,
   "metadata": {},
   "outputs": [],
   "source": [
    "df_drivers = pd.read_csv('Data/all_drivers.csv')\n",
    "df_drivers = df_drivers.set_index(pd.to_datetime(df_drivers.iloc[:, 0]))\n",
    "df_drivers = df_drivers.drop(columns = 'DateTime(UTC)')\n",
    "\n",
    "df_drivers"
   ]
  },
  {
   "cell_type": "code",
   "execution_count": null,
   "metadata": {},
   "outputs": [],
   "source": [
    "window_s = pd.read_csv('fitted_stats/compound_given_ss.csv', parse_dates = ['time_Skew_surge (m)', 'time_Precipitation (mm/hr)'])\n",
    "window_s.head()"
   ]
  },
  {
   "cell_type": "markdown",
   "metadata": {},
   "source": [
    "## Quantify T Mag, P Dur, S Dur, and P Lag"
   ]
  },
  {
   "cell_type": "code",
   "execution_count": 5,
   "metadata": {},
   "outputs": [],
   "source": [
    "surge_marginal = window_s.set_index('time_Skew_surge (m)')['value_Skew_surge (m)']\n",
    "precip_marginal = window_s.set_index('time_Precipitation (mm/hr)')['value_Precipitation (mm/hr)']"
   ]
  },
  {
   "cell_type": "code",
   "execution_count": null,
   "metadata": {},
   "outputs": [],
   "source": [
    "window_t = stats_help.find_largest_within_window('Skew_surge (m)', surge_marginal, df_drivers['Tidal (m)'], 10, 10, one_side=True)\n",
    "window_t.head()"
   ]
  },
  {
   "cell_type": "markdown",
   "metadata": {},
   "source": [
    "If value is above threshold after/before pre defined window, duration is dicated by window size to not cause the duration to explode"
   ]
  },
  {
   "cell_type": "code",
   "execution_count": 7,
   "metadata": {},
   "outputs": [],
   "source": [
    "# ! Quantiles are different than pot thresholds. Since we are assuming gaussian, these thresholds need to be close to zero\n",
    "# However, if they are too small, durations may explode especially for surge. This is not the case for precipitation\n",
    "threshold_quantile_s = 0.925 # Approximately 20 cm threshold simillar to largest observed mmsl, cutoff will be used to ensure no big diff with historical events\n",
    "threshold_quantile_p = 0.9 # approximately 0.3 mm/hr\n",
    "surge_dur, _, _ = stats_help.find_durations(df_drivers['Skew_surge (m)'].ffill(), surge_marginal, threshold_quantile_s)\n",
    "precip_dur, _, _ = stats_help.find_durations(df_drivers['Precipitation (mm/hr)'], precip_marginal, threshold_quantile_p)"
   ]
  },
  {
   "cell_type": "code",
   "execution_count": 8,
   "metadata": {},
   "outputs": [],
   "source": [
    "window_s['Precipitation Lag (h)'] = (window_s['time_Precipitation (mm/hr)'] - window_s['time_Skew_surge (m)']).dt.total_seconds()/3600 - 6 # ss is measured at trough of previous tide, but total wl is maximimed at high tide which occurs six hours later\n",
    "surge_cond = window_s.drop('time_Precipitation (mm/hr)', axis = 1).set_index('time_Skew_surge (m)')"
   ]
  },
  {
   "cell_type": "code",
   "execution_count": null,
   "metadata": {},
   "outputs": [],
   "source": [
    "surge_cond.head()"
   ]
  },
  {
   "cell_type": "code",
   "execution_count": 10,
   "metadata": {},
   "outputs": [],
   "source": [
    "surge_cond['Surge Dur (cycles)'] = surge_dur\n",
    "surge_cond['Precip Dur (h)'] = precip_dur\n",
    "surge_cond['Tidal Mag (m)'] = window_t['value_Tidal (m)'].values"
   ]
  },
  {
   "cell_type": "markdown",
   "metadata": {},
   "source": [
    "## Vine copula(s), other marginals, and event set generation"
   ]
  },
  {
   "cell_type": "code",
   "execution_count": 11,
   "metadata": {},
   "outputs": [],
   "source": [
    "bool_true = (surge_cond['Compound?'] == 'r')\n",
    "bool_false = (surge_cond['Compound?'] == 'k')\n",
    "bool_true[bool_true] = 'Extreme Precipitation'\n",
    "bool_true[bool_false] = 'Non Extreme Precipitation'"
   ]
  },
  {
   "cell_type": "code",
   "execution_count": null,
   "metadata": {},
   "outputs": [],
   "source": [
    "surge_cond.head()"
   ]
  },
  {
   "cell_type": "code",
   "execution_count": null,
   "metadata": {},
   "outputs": [],
   "source": [
    "s_cond = surge_cond.rename(columns = {'value_Skew_surge (m)': 'S Mag [m]',\n",
    "                                      'value_Precipitation (mm/hr)': 'P Mag [mm/hr]',\n",
    "                                      'Tidal Mag (m)': 'T Mag [m]',\n",
    "                                      'Surge Dur (cycles)': 'S Dur [tidal cycles]',\n",
    "                                      'Precip Dur (h)': 'P Dur [hr]',\n",
    "                                      'Precipitation Lag (h)': 'P Lag [hr]'})\n",
    "col_ind = [0, 1, -1, 4, 5, 3]\n",
    "s_cond = s_cond.iloc[:, col_ind]\n",
    "s_cond['Legend'] = bool_true\n",
    "s_cond.head()"
   ]
  },
  {
   "cell_type": "markdown",
   "metadata": {},
   "source": [
    "Adding noise to surge duration to make it continuous, easier to fit vine"
   ]
  },
  {
   "cell_type": "code",
   "execution_count": 14,
   "metadata": {},
   "outputs": [],
   "source": [
    "np.random.seed(5)\n",
    "quantile = np.random.choice(np.arange(0, 1, 0.001), len(s_cond))\n",
    "noise_add = sc.norm.ppf(quantile, loc = 0, scale = 0.05)\n",
    "s_cond['S Dur [tidal cycles]'] += noise_add"
   ]
  },
  {
   "cell_type": "code",
   "execution_count": 15,
   "metadata": {},
   "outputs": [],
   "source": [
    "s_cond.reset_index(drop=True).iloc[:, :-1].to_csv('fitted_stats/historical_eventset.csv', index = False)"
   ]
  },
  {
   "cell_type": "code",
   "execution_count": null,
   "metadata": {},
   "outputs": [],
   "source": [
    "unity_df, p_values = stats_help.plot_pair(s_cond)"
   ]
  },
  {
   "cell_type": "code",
   "execution_count": null,
   "metadata": {},
   "outputs": [],
   "source": [
    "pd.DataFrame(p_values, columns = unity_df.columns[:-1], index = unity_df.columns[:-1])"
   ]
  },
  {
   "cell_type": "code",
   "execution_count": null,
   "metadata": {},
   "outputs": [],
   "source": [
    "print(f'Number of significant correlations: {(sum(sum(p_values<0.05)) - (unity_df.shape[1] - 1))/2}')"
   ]
  },
  {
   "cell_type": "code",
   "execution_count": null,
   "metadata": {},
   "outputs": [],
   "source": [
    "unity_df.head()"
   ]
  },
  {
   "cell_type": "code",
   "execution_count": null,
   "metadata": {},
   "outputs": [],
   "source": [
    "mag_copula = s_cond.iloc[:, [0, 1]].reset_index().drop(columns = ['time_Skew_surge (m)'])\n",
    "mag_copula = pd.concat([mag_copula, unity_df.iloc[:, [0, 1]]], axis = 1)\n",
    "mag_copula.head()"
   ]
  },
  {
   "cell_type": "markdown",
   "metadata": {},
   "source": [
    "## Tide marginal\n",
    "conditionalize on HH tide because of definition of extremes"
   ]
  },
  {
   "cell_type": "code",
   "execution_count": 21,
   "metadata": {},
   "outputs": [],
   "source": [
    "tidal_peaks = pd.read_csv('Data/skew_surge_tides.csv', parse_dates = ['DateTime(UTC)'])\n",
    "tidal_peaks.set_index('DateTime(UTC)', inplace = True)\n",
    "cond_hh = tidal_peaks[tidal_peaks['Type'] == 'HH']\n",
    "ss_hh = cond_hh.iloc[:, [1]]\n",
    "tide_dist = ss_hh.values.flatten()"
   ]
  },
  {
   "cell_type": "code",
   "execution_count": 22,
   "metadata": {},
   "outputs": [],
   "source": [
    "np.savetxt('fitted_stats/emperical_tide.csv', tide_dist, delimiter = ',') # tide"
   ]
  },
  {
   "cell_type": "markdown",
   "metadata": {},
   "source": [
    "## Durations and precipitation Lag marginal\n",
    "Use truncated distributions to prevent extrapolation"
   ]
  },
  {
   "cell_type": "code",
   "execution_count": 23,
   "metadata": {},
   "outputs": [],
   "source": [
    "trunc = ['truncexpon', 'gompertz', 'truncnorm', 'truncpareto', 'truncweibull_min']"
   ]
  },
  {
   "cell_type": "code",
   "execution_count": null,
   "metadata": {},
   "outputs": [],
   "source": [
    "s_dur = Fitter(s_cond.iloc[:, 3], distributions=trunc, bins = np.arange(1, 13, 1), timeout=60)\n",
    "s_dur.fit()\n",
    "df_sdur = s_dur.summary(method = 'sumsquare_error')\n",
    "plt.xlabel('Skew Surge Duration [Tidal Cycles]')\n",
    "plt.ylabel('Density [-]')\n",
    "df_sdur"
   ]
  },
  {
   "cell_type": "code",
   "execution_count": null,
   "metadata": {},
   "outputs": [],
   "source": [
    "s_dur_marg = s_dur.get_best('sumsquare_error')\n",
    "print(s_dur_marg)\n",
    "stats_help.save_marginal('fitted_stats/surge_dur.json', s_dur_marg)"
   ]
  },
  {
   "cell_type": "code",
   "execution_count": null,
   "metadata": {},
   "outputs": [],
   "source": [
    "p_dur = Fitter(s_cond.iloc[:, 4], distributions=trunc, bins = np.arange(0, 65, 5), timeout=60)\n",
    "p_dur.fit()\n",
    "df_pdur = p_dur.summary(method = 'sumsquare_error')\n",
    "plt.xlabel('Precipitation Duration [hr]')\n",
    "plt.ylabel('Density [-]')\n",
    "df_pdur"
   ]
  },
  {
   "cell_type": "code",
   "execution_count": 27,
   "metadata": {},
   "outputs": [],
   "source": [
    "p_dur_marg = p_dur.get_best('sumsquare_error')\n",
    "stats_help.save_marginal('fitted_stats/precipitation_dur.json', p_dur_marg)"
   ]
  },
  {
   "cell_type": "code",
   "execution_count": null,
   "metadata": {},
   "outputs": [],
   "source": [
    "p_lag = Fitter(s_cond.iloc[:, 5], distributions=trunc, bins = np.arange(-72, 78, 6), timeout=60)\n",
    "p_lag.fit()\n",
    "df_plag = p_lag.summary(method = 'sumsquare_error')\n",
    "plt.xlabel('Precipitation Lag [hr]')\n",
    "plt.ylabel('Density [-]')\n",
    "plt.ylim([0, 0.03])\n",
    "df_plag"
   ]
  },
  {
   "cell_type": "markdown",
   "metadata": {},
   "source": [
    "Impose truncation limits to ensure compound definition is satisfied. If already satisfied, ensures extrapolation for P Lag (full width of +/- 3 days)"
   ]
  },
  {
   "cell_type": "code",
   "execution_count": null,
   "metadata": {},
   "outputs": [],
   "source": [
    "p_lag_marg = p_lag.get_best('sumsquare_error')\n",
    "p_lag_marg"
   ]
  },
  {
   "cell_type": "code",
   "execution_count": 30,
   "metadata": {},
   "outputs": [],
   "source": [
    "stats_help.save_marginal('fitted_stats/precipitation_lag.json', p_lag_marg)"
   ]
  },
  {
   "cell_type": "markdown",
   "metadata": {},
   "source": [
    "## 2D fit copula"
   ]
  },
  {
   "cell_type": "code",
   "execution_count": null,
   "metadata": {},
   "outputs": [],
   "source": [
    "best_copula = stats_help.fit_copulas(mag_copula)"
   ]
  },
  {
   "cell_type": "markdown",
   "metadata": {},
   "source": [
    "### Create benchmark for 2d"
   ]
  },
  {
   "cell_type": "code",
   "execution_count": 32,
   "metadata": {},
   "outputs": [],
   "source": [
    "#-- sim best theoretical\n",
    "samples = 500\n",
    "best_cop = best_copula.simulate(n = samples, seeds = [30]) # fixed seed, if the same as for the vine, sims will be the same! --> good thing\n",
    "\n",
    "ss_tmarginal = stats_help.load_marginal('fitted_stats/skew_surge.json')\n",
    "precip_tmarginal = stats_help.load_marginal('fitted_stats/precipitation.json')\n",
    "\n",
    "dur_ss_threshold = np.quantile(df_drivers['Skew_surge (m)'].dropna(), threshold_quantile_s)\n",
    "sim_act_u = stats_help.obtain_sim_values(best_cop[:, 0], ss_tmarginal, threshold = [dur_ss_threshold, 5])\n",
    "sim_act_v = stats_help.obtain_sim_values(best_cop[:, 1], precip_tmarginal)"
   ]
  },
  {
   "cell_type": "code",
   "execution_count": null,
   "metadata": {},
   "outputs": [],
   "source": [
    "df_simulated = pd.DataFrame({mag_copula.columns[0]: sim_act_u,\n",
    "                             mag_copula.columns[1]: sim_act_v})\n",
    "df_simulated.head()"
   ]
  },
  {
   "cell_type": "code",
   "execution_count": null,
   "metadata": {},
   "outputs": [],
   "source": [
    "stats_help.plot_copula_2d(best_cop, df_simulated, mag_copula)"
   ]
  },
  {
   "cell_type": "code",
   "execution_count": 35,
   "metadata": {},
   "outputs": [],
   "source": [
    "df_simulated.to_csv('fitted_stats/training_2d.csv', index = False)"
   ]
  },
  {
   "cell_type": "markdown",
   "metadata": {},
   "source": [
    "### Create testing for 2d"
   ]
  },
  {
   "cell_type": "code",
   "execution_count": 36,
   "metadata": {},
   "outputs": [],
   "source": [
    "#-- sim best theoretical\n",
    "samples = 10_000\n",
    "best_cop = best_copula.simulate(n = samples, seeds = [5]) # fixed seed, if the same as for the vine, sims will be the same! --> good thing\n",
    "\n",
    "sim_act_u = stats_help.obtain_sim_values(best_cop[:, 0], ss_tmarginal, threshold = [dur_ss_threshold, 5])\n",
    "sim_act_v = stats_help.obtain_sim_values(best_cop[:, 1], precip_tmarginal)\n"
   ]
  },
  {
   "cell_type": "code",
   "execution_count": null,
   "metadata": {},
   "outputs": [],
   "source": [
    "df_simulated = pd.DataFrame({mag_copula.columns[0]: sim_act_u,\n",
    "                             mag_copula.columns[1]: sim_act_v})\n",
    "df_simulated.head()"
   ]
  },
  {
   "cell_type": "code",
   "execution_count": null,
   "metadata": {},
   "outputs": [],
   "source": [
    "stats_help.plot_copula_2d(best_cop, df_simulated, mag_copula)"
   ]
  },
  {
   "cell_type": "code",
   "execution_count": 39,
   "metadata": {},
   "outputs": [],
   "source": [
    "df_simulated.to_csv('fitted_stats/2d_sims.csv', index = False)"
   ]
  },
  {
   "cell_type": "markdown",
   "metadata": {},
   "source": [
    "## Fit vine copula in 3d"
   ]
  },
  {
   "cell_type": "code",
   "execution_count": null,
   "metadata": {},
   "outputs": [],
   "source": [
    "three_var = unity_df.iloc[:, :3]\n",
    "three_var.head()"
   ]
  },
  {
   "cell_type": "code",
   "execution_count": null,
   "metadata": {},
   "outputs": [],
   "source": [
    "df_vine_three, cop = stats_help.understand_vine(three_var)"
   ]
  },
  {
   "cell_type": "markdown",
   "metadata": {},
   "source": [
    "### testing event set generation in 3d"
   ]
  },
  {
   "cell_type": "code",
   "execution_count": 42,
   "metadata": {},
   "outputs": [],
   "source": [
    "n_sim = 10000\n",
    "tide_dist = pd.read_csv('fitted_stats/emperical_tide.csv', header = None).values.flatten()\n",
    "df_usim, df_sim = stats_help.sim_vines(three_var, n_sim, [ss_tmarginal, precip_tmarginal, tide_dist], cop, s_cond.columns[:3])"
   ]
  },
  {
   "cell_type": "code",
   "execution_count": null,
   "metadata": {},
   "outputs": [],
   "source": [
    "stats_help.plot_sim_vine(df_sim, s_cond.iloc[:, :3], df_vine_three)"
   ]
  },
  {
   "cell_type": "code",
   "execution_count": 44,
   "metadata": {},
   "outputs": [],
   "source": [
    "df_sim.to_csv('fitted_stats/3d_sims.csv', index = False)"
   ]
  },
  {
   "cell_type": "markdown",
   "metadata": {},
   "source": [
    "## Fit vine copula in 6d"
   ]
  },
  {
   "cell_type": "code",
   "execution_count": null,
   "metadata": {},
   "outputs": [],
   "source": [
    "six_var = unity_df.iloc[:, :-1]\n",
    "six_var.head()"
   ]
  },
  {
   "cell_type": "code",
   "execution_count": null,
   "metadata": {},
   "outputs": [],
   "source": [
    "df_vine_six, cop = stats_help.understand_vine(six_var)"
   ]
  },
  {
   "cell_type": "markdown",
   "metadata": {},
   "source": [
    "### Creating benchmark in six dimensions"
   ]
  },
  {
   "cell_type": "code",
   "execution_count": null,
   "metadata": {},
   "outputs": [],
   "source": [
    "np.random.seed(30)\n",
    "df_usim_sixt, df_sim_sixt = stats_help.sim_vines(six_var, 500, [ss_tmarginal, precip_tmarginal, tide_dist, s_dur_marg, p_dur_marg, p_lag_marg],\n",
    "                                       cop, s_cond.columns[:-1], threshold = [[0, 1_000], [0, 1_000],\n",
    "                                                                              [0, 1_000], [1, 12.5], \n",
    "                                                                              [0, 72], [-72, 72]])\n",
    "df_sim_sixt['S Dur [tidal cycles]'] = df_sim_sixt['S Dur [tidal cycles]'].round(0)\n",
    "df_sim_sixt.head()"
   ]
  },
  {
   "cell_type": "code",
   "execution_count": null,
   "metadata": {},
   "outputs": [],
   "source": [
    "stats_help.plot_sim_vine(df_sim_sixt, s_cond.iloc[:, :-1], df_vine_six, new_ax = [2, 3], old_ax = [3, 3])"
   ]
  },
  {
   "cell_type": "code",
   "execution_count": 49,
   "metadata": {},
   "outputs": [],
   "source": [
    "df_sim_sixt.to_csv('fitted_stats/training_6d.csv')"
   ]
  },
  {
   "cell_type": "markdown",
   "metadata": {},
   "source": [
    "### Create testing dataset in 6d"
   ]
  },
  {
   "cell_type": "code",
   "execution_count": null,
   "metadata": {},
   "outputs": [],
   "source": [
    "np.random.seed(5)\n",
    "df_usim, df_sim_6 = stats_help.sim_vines(six_var, n_sim, [ss_tmarginal, precip_tmarginal, tide_dist, s_dur_marg, p_dur_marg, p_lag_marg],\n",
    "                                       cop, s_cond.columns[:-1], threshold = [[0, 1_000], [0, 1_000],\n",
    "                                                                              [0, 1_000], [1, 12.5], \n",
    "                                                                              [0, 72], [-72, 72]])\n",
    "df_sim_6['S Dur [tidal cycles]'] = df_sim_6['S Dur [tidal cycles]'].round(0)\n",
    "df_sim_6.head()"
   ]
  },
  {
   "cell_type": "code",
   "execution_count": null,
   "metadata": {},
   "outputs": [],
   "source": [
    "stats_help.plot_sim_vine(df_sim_6, s_cond.iloc[:, :-1], df_vine_six, new_ax = [2, 3], old_ax = [3, 3])"
   ]
  },
  {
   "cell_type": "code",
   "execution_count": 52,
   "metadata": {},
   "outputs": [],
   "source": [
    "df_sim_6.to_csv('fitted_stats/6d_sims.csv')"
   ]
  },
  {
   "cell_type": "markdown",
   "metadata": {},
   "source": [
    "## Fit vine copula in 4d"
   ]
  },
  {
   "cell_type": "code",
   "execution_count": null,
   "metadata": {},
   "outputs": [],
   "source": [
    "four_var = unity_df.iloc[:, [0, 1, 2, 4]]\n",
    "four_var.head()"
   ]
  },
  {
   "cell_type": "code",
   "execution_count": null,
   "metadata": {},
   "outputs": [],
   "source": [
    "df_vine_four, cop = stats_help.understand_vine(four_var)"
   ]
  },
  {
   "cell_type": "markdown",
   "metadata": {},
   "source": [
    "### Create a testing dataset in 4d"
   ]
  },
  {
   "cell_type": "code",
   "execution_count": 55,
   "metadata": {},
   "outputs": [],
   "source": [
    "n_sim = 10000\n",
    "df_usim, df_sim = stats_help.sim_vines(four_var, n_sim,\n",
    "                                       [ss_tmarginal, precip_tmarginal, tide_dist, p_dur_marg],\n",
    "                                       cop, s_cond.columns[[0, 1, 2, 4]], seeds = [5],\n",
    "                                       threshold = [[0, 1_000], [0, 1_000], [0, 1_000], [0, 72]])"
   ]
  },
  {
   "cell_type": "code",
   "execution_count": null,
   "metadata": {},
   "outputs": [],
   "source": [
    "stats_help.plot_sim_vine(df_sim, s_cond.iloc[:, [0, 1, 2, 4]], df_vine_four, new_ax = [1, 2], old_ax = [2, 2])"
   ]
  },
  {
   "cell_type": "code",
   "execution_count": 57,
   "metadata": {},
   "outputs": [],
   "source": [
    "df_sim.to_csv('fitted_stats/4d_sims.csv', index = False)"
   ]
  },
  {
   "cell_type": "markdown",
   "metadata": {},
   "source": [
    "## Fit vine copula in 5d"
   ]
  },
  {
   "cell_type": "code",
   "execution_count": null,
   "metadata": {},
   "outputs": [],
   "source": [
    "five_var = unity_df.iloc[:, [0, 1, 2, 3, 4]]\n",
    "five_var.head()"
   ]
  },
  {
   "cell_type": "code",
   "execution_count": null,
   "metadata": {},
   "outputs": [],
   "source": [
    "df_vine_five, cop = stats_help.understand_vine(five_var)"
   ]
  },
  {
   "cell_type": "markdown",
   "metadata": {},
   "source": [
    "s_dur is independant, can remove from vine and sample randomly"
   ]
  },
  {
   "cell_type": "markdown",
   "metadata": {},
   "source": [
    "### Create testing dataset in 5d"
   ]
  },
  {
   "cell_type": "code",
   "execution_count": 60,
   "metadata": {},
   "outputs": [],
   "source": [
    "np.random.seed(5)\n",
    "s_dur_sims = stats_help.obtain_sim_values(np.random.rand(10000), s_dur_marg, threshold = [1, 12.5]).round(0)\n",
    "df_sim['S Dur [tidal cycles]'] = s_dur_sims"
   ]
  },
  {
   "cell_type": "code",
   "execution_count": null,
   "metadata": {},
   "outputs": [],
   "source": [
    "stats_help.plot_sim_vine(df_sim, s_cond.iloc[:, [0, 1, 2, 3, 4]], df_vine_five, new_ax = [2, 3], old_ax = [3, 3])"
   ]
  },
  {
   "cell_type": "code",
   "execution_count": 62,
   "metadata": {},
   "outputs": [],
   "source": [
    "df_sim.to_csv('fitted_stats/5d_sims.csv', index = False)"
   ]
  }
 ],
 "metadata": {
  "kernelspec": {
   "display_name": "Python 3",
   "language": "python",
   "name": "python3"
  },
  "language_info": {
   "codemirror_mode": {
    "name": "ipython",
    "version": 3
   },
   "file_extension": ".py",
   "mimetype": "text/x-python",
   "name": "python",
   "nbconvert_exporter": "python",
   "pygments_lexer": "ipython3",
   "version": "3.11.7"
  }
 },
 "nbformat": 4,
 "nbformat_minor": 2
}
